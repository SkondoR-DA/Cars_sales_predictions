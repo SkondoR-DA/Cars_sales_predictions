{
  "nbformat": 4,
  "nbformat_minor": 0,
  "metadata": {
    "colab": {
      "provenance": []
    },
    "kernelspec": {
      "name": "python3",
      "display_name": "Python 3"
    },
    "language_info": {
      "name": "python"
    }
  },
  "cells": [
    {
      "cell_type": "markdown",
      "source": [
        "https://drive.google.com/file/d/1Ap5D7rkcX0E2nxAACJzCrS96QAjs7bt5/view?usp=share_link"
      ],
      "metadata": {
        "id": "TWq-AOxoq40d"
      }
    },
    {
      "cell_type": "code",
      "source": [
        "! gdown --id 1Ap5D7rkcX0E2nxAACJzCrS96QAjs7bt5"
      ],
      "metadata": {
        "id": "zAiMKKt_qwYV",
        "colab": {
          "base_uri": "https://localhost:8080/"
        },
        "outputId": "50c6f586-4c84-426d-8824-02e35b1780d9"
      },
      "execution_count": null,
      "outputs": [
        {
          "output_type": "stream",
          "name": "stdout",
          "text": [
            "/usr/local/lib/python3.10/dist-packages/gdown/cli.py:121: FutureWarning: Option `--id` was deprecated in version 4.3.1 and will be removed in 5.0. You don't need to pass it anymore to use a file ID.\n",
            "  warnings.warn(\n",
            "Downloading...\n",
            "From: https://drive.google.com/uc?id=1Ap5D7rkcX0E2nxAACJzCrS96QAjs7bt5\n",
            "To: /content/car.zip\n",
            "100% 1.15M/1.15M [00:00<00:00, 71.8MB/s]\n"
          ]
        }
      ]
    },
    {
      "cell_type": "code",
      "source": [
        "! unzip /content/car.zip -d /content/Car_sels"
      ],
      "metadata": {
        "colab": {
          "base_uri": "https://localhost:8080/"
        },
        "id": "jRxzERxprLBm",
        "outputId": "10ab653f-978c-464b-b272-6342cac2a014"
      },
      "execution_count": null,
      "outputs": [
        {
          "output_type": "stream",
          "name": "stdout",
          "text": [
            "Archive:  /content/car.zip\n",
            "  inflating: /content/Car_sels/audi.csv  \n",
            "  inflating: /content/Car_sels/bmw.csv  \n",
            "  inflating: /content/Car_sels/cclass.csv  \n",
            "  inflating: /content/Car_sels/focus.csv  \n",
            "  inflating: /content/Car_sels/ford.csv  \n",
            "  inflating: /content/Car_sels/hyundi.csv  \n",
            "  inflating: /content/Car_sels/merc.csv  \n",
            "  inflating: /content/Car_sels/skoda.csv  \n",
            "  inflating: /content/Car_sels/toyota.csv  \n",
            "  inflating: /content/Car_sels/unclean cclass.csv  \n",
            "  inflating: /content/Car_sels/unclean focus.csv  \n",
            "  inflating: /content/Car_sels/vauxhall.csv  \n",
            "  inflating: /content/Car_sels/vw.csv  \n"
          ]
        }
      ]
    },
    {
      "cell_type": "code",
      "source": [
        "! pip install catboost"
      ],
      "metadata": {
        "colab": {
          "base_uri": "https://localhost:8080/"
        },
        "id": "Q8aac-3SyG2q",
        "outputId": "ba5b109d-50dc-4124-d8b5-188a8e1f9cbb"
      },
      "execution_count": null,
      "outputs": [
        {
          "output_type": "stream",
          "name": "stdout",
          "text": [
            "Looking in indexes: https://pypi.org/simple, https://us-python.pkg.dev/colab-wheels/public/simple/\n",
            "Requirement already satisfied: catboost in /usr/local/lib/python3.10/dist-packages (1.2)\n",
            "Requirement already satisfied: pandas>=0.24 in /usr/local/lib/python3.10/dist-packages (from catboost) (1.5.3)\n",
            "Requirement already satisfied: plotly in /usr/local/lib/python3.10/dist-packages (from catboost) (5.13.1)\n",
            "Requirement already satisfied: scipy in /usr/local/lib/python3.10/dist-packages (from catboost) (1.10.1)\n",
            "Requirement already satisfied: six in /usr/local/lib/python3.10/dist-packages (from catboost) (1.16.0)\n",
            "Requirement already satisfied: numpy>=1.16.0 in /usr/local/lib/python3.10/dist-packages (from catboost) (1.22.4)\n",
            "Requirement already satisfied: matplotlib in /usr/local/lib/python3.10/dist-packages (from catboost) (3.7.1)\n",
            "Requirement already satisfied: graphviz in /usr/local/lib/python3.10/dist-packages (from catboost) (0.20.1)\n",
            "Requirement already satisfied: pytz>=2020.1 in /usr/local/lib/python3.10/dist-packages (from pandas>=0.24->catboost) (2022.7.1)\n",
            "Requirement already satisfied: python-dateutil>=2.8.1 in /usr/local/lib/python3.10/dist-packages (from pandas>=0.24->catboost) (2.8.2)\n",
            "Requirement already satisfied: fonttools>=4.22.0 in /usr/local/lib/python3.10/dist-packages (from matplotlib->catboost) (4.39.3)\n",
            "Requirement already satisfied: pillow>=6.2.0 in /usr/local/lib/python3.10/dist-packages (from matplotlib->catboost) (8.4.0)\n",
            "Requirement already satisfied: pyparsing>=2.3.1 in /usr/local/lib/python3.10/dist-packages (from matplotlib->catboost) (3.0.9)\n",
            "Requirement already satisfied: cycler>=0.10 in /usr/local/lib/python3.10/dist-packages (from matplotlib->catboost) (0.11.0)\n",
            "Requirement already satisfied: kiwisolver>=1.0.1 in /usr/local/lib/python3.10/dist-packages (from matplotlib->catboost) (1.4.4)\n",
            "Requirement already satisfied: packaging>=20.0 in /usr/local/lib/python3.10/dist-packages (from matplotlib->catboost) (23.1)\n",
            "Requirement already satisfied: contourpy>=1.0.1 in /usr/local/lib/python3.10/dist-packages (from matplotlib->catboost) (1.0.7)\n",
            "Requirement already satisfied: tenacity>=6.2.0 in /usr/local/lib/python3.10/dist-packages (from plotly->catboost) (8.2.2)\n"
          ]
        }
      ]
    },
    {
      "cell_type": "code",
      "source": [
        "import pandas as pd\n",
        "from sklearn.model_selection import train_test_split\n",
        "import numpy as np\n",
        "from sklearn.metrics import mean_absolute_error, mean_absolute_percentage_error\n",
        "import seaborn as sns"
      ],
      "metadata": {
        "id": "1LiVDCfYtDRy"
      },
      "execution_count": null,
      "outputs": []
    },
    {
      "cell_type": "code",
      "source": [
        "df_vw = pd.read_csv('/content/Car_sels/vw.csv')"
      ],
      "metadata": {
        "id": "g3qNvI9MtNyF"
      },
      "execution_count": null,
      "outputs": []
    },
    {
      "cell_type": "code",
      "source": [
        "df_vw"
      ],
      "metadata": {
        "id": "fcdg3hzqtZjz",
        "colab": {
          "base_uri": "https://localhost:8080/",
          "height": 424
        },
        "outputId": "6e228df5-78ce-4dfc-bdd7-e1844ca1dcf9"
      },
      "execution_count": null,
      "outputs": [
        {
          "output_type": "execute_result",
          "data": {
            "text/plain": [
              "        model  year  price transmission  mileage fuelType  tax   mpg  \\\n",
              "0       T-Roc  2019  25000    Automatic    13904   Diesel  145  49.6   \n",
              "1       T-Roc  2019  26883    Automatic     4562   Diesel  145  49.6   \n",
              "2       T-Roc  2019  20000       Manual     7414   Diesel  145  50.4   \n",
              "3       T-Roc  2019  33492    Automatic     4825   Petrol  145  32.5   \n",
              "4       T-Roc  2019  22900    Semi-Auto     6500   Petrol  150  39.8   \n",
              "...       ...   ...    ...          ...      ...      ...  ...   ...   \n",
              "15152     Eos  2012   5990       Manual    74000   Diesel  125  58.9   \n",
              "15153     Fox  2008   1799       Manual    88102   Petrol  145  46.3   \n",
              "15154     Fox  2009   1590       Manual    70000   Petrol  200  42.0   \n",
              "15155     Fox  2006   1250       Manual    82704   Petrol  150  46.3   \n",
              "15156     Fox  2007   2295       Manual    74000   Petrol  145  46.3   \n",
              "\n",
              "       engineSize  \n",
              "0             2.0  \n",
              "1             2.0  \n",
              "2             2.0  \n",
              "3             2.0  \n",
              "4             1.5  \n",
              "...           ...  \n",
              "15152         2.0  \n",
              "15153         1.2  \n",
              "15154         1.4  \n",
              "15155         1.2  \n",
              "15156         1.2  \n",
              "\n",
              "[15157 rows x 9 columns]"
            ],
            "text/html": [
              "\n",
              "  <div id=\"df-b73ecda2-e8db-486b-9315-9c69dff0b96d\">\n",
              "    <div class=\"colab-df-container\">\n",
              "      <div>\n",
              "<style scoped>\n",
              "    .dataframe tbody tr th:only-of-type {\n",
              "        vertical-align: middle;\n",
              "    }\n",
              "\n",
              "    .dataframe tbody tr th {\n",
              "        vertical-align: top;\n",
              "    }\n",
              "\n",
              "    .dataframe thead th {\n",
              "        text-align: right;\n",
              "    }\n",
              "</style>\n",
              "<table border=\"1\" class=\"dataframe\">\n",
              "  <thead>\n",
              "    <tr style=\"text-align: right;\">\n",
              "      <th></th>\n",
              "      <th>model</th>\n",
              "      <th>year</th>\n",
              "      <th>price</th>\n",
              "      <th>transmission</th>\n",
              "      <th>mileage</th>\n",
              "      <th>fuelType</th>\n",
              "      <th>tax</th>\n",
              "      <th>mpg</th>\n",
              "      <th>engineSize</th>\n",
              "    </tr>\n",
              "  </thead>\n",
              "  <tbody>\n",
              "    <tr>\n",
              "      <th>0</th>\n",
              "      <td>T-Roc</td>\n",
              "      <td>2019</td>\n",
              "      <td>25000</td>\n",
              "      <td>Automatic</td>\n",
              "      <td>13904</td>\n",
              "      <td>Diesel</td>\n",
              "      <td>145</td>\n",
              "      <td>49.6</td>\n",
              "      <td>2.0</td>\n",
              "    </tr>\n",
              "    <tr>\n",
              "      <th>1</th>\n",
              "      <td>T-Roc</td>\n",
              "      <td>2019</td>\n",
              "      <td>26883</td>\n",
              "      <td>Automatic</td>\n",
              "      <td>4562</td>\n",
              "      <td>Diesel</td>\n",
              "      <td>145</td>\n",
              "      <td>49.6</td>\n",
              "      <td>2.0</td>\n",
              "    </tr>\n",
              "    <tr>\n",
              "      <th>2</th>\n",
              "      <td>T-Roc</td>\n",
              "      <td>2019</td>\n",
              "      <td>20000</td>\n",
              "      <td>Manual</td>\n",
              "      <td>7414</td>\n",
              "      <td>Diesel</td>\n",
              "      <td>145</td>\n",
              "      <td>50.4</td>\n",
              "      <td>2.0</td>\n",
              "    </tr>\n",
              "    <tr>\n",
              "      <th>3</th>\n",
              "      <td>T-Roc</td>\n",
              "      <td>2019</td>\n",
              "      <td>33492</td>\n",
              "      <td>Automatic</td>\n",
              "      <td>4825</td>\n",
              "      <td>Petrol</td>\n",
              "      <td>145</td>\n",
              "      <td>32.5</td>\n",
              "      <td>2.0</td>\n",
              "    </tr>\n",
              "    <tr>\n",
              "      <th>4</th>\n",
              "      <td>T-Roc</td>\n",
              "      <td>2019</td>\n",
              "      <td>22900</td>\n",
              "      <td>Semi-Auto</td>\n",
              "      <td>6500</td>\n",
              "      <td>Petrol</td>\n",
              "      <td>150</td>\n",
              "      <td>39.8</td>\n",
              "      <td>1.5</td>\n",
              "    </tr>\n",
              "    <tr>\n",
              "      <th>...</th>\n",
              "      <td>...</td>\n",
              "      <td>...</td>\n",
              "      <td>...</td>\n",
              "      <td>...</td>\n",
              "      <td>...</td>\n",
              "      <td>...</td>\n",
              "      <td>...</td>\n",
              "      <td>...</td>\n",
              "      <td>...</td>\n",
              "    </tr>\n",
              "    <tr>\n",
              "      <th>15152</th>\n",
              "      <td>Eos</td>\n",
              "      <td>2012</td>\n",
              "      <td>5990</td>\n",
              "      <td>Manual</td>\n",
              "      <td>74000</td>\n",
              "      <td>Diesel</td>\n",
              "      <td>125</td>\n",
              "      <td>58.9</td>\n",
              "      <td>2.0</td>\n",
              "    </tr>\n",
              "    <tr>\n",
              "      <th>15153</th>\n",
              "      <td>Fox</td>\n",
              "      <td>2008</td>\n",
              "      <td>1799</td>\n",
              "      <td>Manual</td>\n",
              "      <td>88102</td>\n",
              "      <td>Petrol</td>\n",
              "      <td>145</td>\n",
              "      <td>46.3</td>\n",
              "      <td>1.2</td>\n",
              "    </tr>\n",
              "    <tr>\n",
              "      <th>15154</th>\n",
              "      <td>Fox</td>\n",
              "      <td>2009</td>\n",
              "      <td>1590</td>\n",
              "      <td>Manual</td>\n",
              "      <td>70000</td>\n",
              "      <td>Petrol</td>\n",
              "      <td>200</td>\n",
              "      <td>42.0</td>\n",
              "      <td>1.4</td>\n",
              "    </tr>\n",
              "    <tr>\n",
              "      <th>15155</th>\n",
              "      <td>Fox</td>\n",
              "      <td>2006</td>\n",
              "      <td>1250</td>\n",
              "      <td>Manual</td>\n",
              "      <td>82704</td>\n",
              "      <td>Petrol</td>\n",
              "      <td>150</td>\n",
              "      <td>46.3</td>\n",
              "      <td>1.2</td>\n",
              "    </tr>\n",
              "    <tr>\n",
              "      <th>15156</th>\n",
              "      <td>Fox</td>\n",
              "      <td>2007</td>\n",
              "      <td>2295</td>\n",
              "      <td>Manual</td>\n",
              "      <td>74000</td>\n",
              "      <td>Petrol</td>\n",
              "      <td>145</td>\n",
              "      <td>46.3</td>\n",
              "      <td>1.2</td>\n",
              "    </tr>\n",
              "  </tbody>\n",
              "</table>\n",
              "<p>15157 rows × 9 columns</p>\n",
              "</div>\n",
              "      <button class=\"colab-df-convert\" onclick=\"convertToInteractive('df-b73ecda2-e8db-486b-9315-9c69dff0b96d')\"\n",
              "              title=\"Convert this dataframe to an interactive table.\"\n",
              "              style=\"display:none;\">\n",
              "        \n",
              "  <svg xmlns=\"http://www.w3.org/2000/svg\" height=\"24px\"viewBox=\"0 0 24 24\"\n",
              "       width=\"24px\">\n",
              "    <path d=\"M0 0h24v24H0V0z\" fill=\"none\"/>\n",
              "    <path d=\"M18.56 5.44l.94 2.06.94-2.06 2.06-.94-2.06-.94-.94-2.06-.94 2.06-2.06.94zm-11 1L8.5 8.5l.94-2.06 2.06-.94-2.06-.94L8.5 2.5l-.94 2.06-2.06.94zm10 10l.94 2.06.94-2.06 2.06-.94-2.06-.94-.94-2.06-.94 2.06-2.06.94z\"/><path d=\"M17.41 7.96l-1.37-1.37c-.4-.4-.92-.59-1.43-.59-.52 0-1.04.2-1.43.59L10.3 9.45l-7.72 7.72c-.78.78-.78 2.05 0 2.83L4 21.41c.39.39.9.59 1.41.59.51 0 1.02-.2 1.41-.59l7.78-7.78 2.81-2.81c.8-.78.8-2.07 0-2.86zM5.41 20L4 18.59l7.72-7.72 1.47 1.35L5.41 20z\"/>\n",
              "  </svg>\n",
              "      </button>\n",
              "      \n",
              "  <style>\n",
              "    .colab-df-container {\n",
              "      display:flex;\n",
              "      flex-wrap:wrap;\n",
              "      gap: 12px;\n",
              "    }\n",
              "\n",
              "    .colab-df-convert {\n",
              "      background-color: #E8F0FE;\n",
              "      border: none;\n",
              "      border-radius: 50%;\n",
              "      cursor: pointer;\n",
              "      display: none;\n",
              "      fill: #1967D2;\n",
              "      height: 32px;\n",
              "      padding: 0 0 0 0;\n",
              "      width: 32px;\n",
              "    }\n",
              "\n",
              "    .colab-df-convert:hover {\n",
              "      background-color: #E2EBFA;\n",
              "      box-shadow: 0px 1px 2px rgba(60, 64, 67, 0.3), 0px 1px 3px 1px rgba(60, 64, 67, 0.15);\n",
              "      fill: #174EA6;\n",
              "    }\n",
              "\n",
              "    [theme=dark] .colab-df-convert {\n",
              "      background-color: #3B4455;\n",
              "      fill: #D2E3FC;\n",
              "    }\n",
              "\n",
              "    [theme=dark] .colab-df-convert:hover {\n",
              "      background-color: #434B5C;\n",
              "      box-shadow: 0px 1px 3px 1px rgba(0, 0, 0, 0.15);\n",
              "      filter: drop-shadow(0px 1px 2px rgba(0, 0, 0, 0.3));\n",
              "      fill: #FFFFFF;\n",
              "    }\n",
              "  </style>\n",
              "\n",
              "      <script>\n",
              "        const buttonEl =\n",
              "          document.querySelector('#df-b73ecda2-e8db-486b-9315-9c69dff0b96d button.colab-df-convert');\n",
              "        buttonEl.style.display =\n",
              "          google.colab.kernel.accessAllowed ? 'block' : 'none';\n",
              "\n",
              "        async function convertToInteractive(key) {\n",
              "          const element = document.querySelector('#df-b73ecda2-e8db-486b-9315-9c69dff0b96d');\n",
              "          const dataTable =\n",
              "            await google.colab.kernel.invokeFunction('convertToInteractive',\n",
              "                                                     [key], {});\n",
              "          if (!dataTable) return;\n",
              "\n",
              "          const docLinkHtml = 'Like what you see? Visit the ' +\n",
              "            '<a target=\"_blank\" href=https://colab.research.google.com/notebooks/data_table.ipynb>data table notebook</a>'\n",
              "            + ' to learn more about interactive tables.';\n",
              "          element.innerHTML = '';\n",
              "          dataTable['output_type'] = 'display_data';\n",
              "          await google.colab.output.renderOutput(dataTable, element);\n",
              "          const docLink = document.createElement('div');\n",
              "          docLink.innerHTML = docLinkHtml;\n",
              "          element.appendChild(docLink);\n",
              "        }\n",
              "      </script>\n",
              "    </div>\n",
              "  </div>\n",
              "  "
            ]
          },
          "metadata": {},
          "execution_count": 99
        }
      ]
    },
    {
      "cell_type": "code",
      "source": [
        "df = df_vw"
      ],
      "metadata": {
        "id": "6tfsLPXBv7Cp"
      },
      "execution_count": null,
      "outputs": []
    },
    {
      "cell_type": "code",
      "source": [
        "train, test = train_test_split(df, train_size=0.6,random_state=42)"
      ],
      "metadata": {
        "id": "GIdsHtdpW80_"
      },
      "execution_count": null,
      "outputs": []
    },
    {
      "cell_type": "code",
      "source": [
        "val,test = train_test_split(test, train_size=0.5,random_state=42)"
      ],
      "metadata": {
        "id": "6MF2p-7Xhdlx"
      },
      "execution_count": null,
      "outputs": []
    },
    {
      "cell_type": "code",
      "source": [
        "len(train) / len(df)"
      ],
      "metadata": {
        "colab": {
          "base_uri": "https://localhost:8080/"
        },
        "id": "zCYh5Fp9wcFP",
        "outputId": "aa90f469-d076-4334-ba60-6216b3e774f2"
      },
      "execution_count": null,
      "outputs": [
        {
          "output_type": "execute_result",
          "data": {
            "text/plain": [
              "0.5999868047766709"
            ]
          },
          "metadata": {},
          "execution_count": 103
        }
      ]
    },
    {
      "cell_type": "code",
      "source": [
        "len(val) / len(df)"
      ],
      "metadata": {
        "colab": {
          "base_uri": "https://localhost:8080/"
        },
        "id": "isaEvnZewinG",
        "outputId": "a7c6446e-101d-4e9b-fac1-3792efde0462"
      },
      "execution_count": null,
      "outputs": [
        {
          "output_type": "execute_result",
          "data": {
            "text/plain": [
              "0.1999736095533417"
            ]
          },
          "metadata": {},
          "execution_count": 104
        }
      ]
    },
    {
      "cell_type": "code",
      "source": [
        "len(test) / len(df)"
      ],
      "metadata": {
        "colab": {
          "base_uri": "https://localhost:8080/"
        },
        "id": "RbXSOBcowl4u",
        "outputId": "48db4b32-774c-46df-d1e2-6cd047df7726"
      },
      "execution_count": null,
      "outputs": [
        {
          "output_type": "execute_result",
          "data": {
            "text/plain": [
              "0.20003958566998747"
            ]
          },
          "metadata": {},
          "execution_count": 105
        }
      ]
    },
    {
      "cell_type": "code",
      "source": [
        "train.columns"
      ],
      "metadata": {
        "colab": {
          "base_uri": "https://localhost:8080/"
        },
        "id": "KJ32Q-KTwow-",
        "outputId": "1d896ca7-54f4-4f20-eaac-b24c883754df"
      },
      "execution_count": null,
      "outputs": [
        {
          "output_type": "execute_result",
          "data": {
            "text/plain": [
              "Index(['model', 'year', 'price', 'transmission', 'mileage', 'fuelType', 'tax',\n",
              "       'mpg', 'engineSize'],\n",
              "      dtype='object')"
            ]
          },
          "metadata": {},
          "execution_count": 106
        }
      ]
    },
    {
      "cell_type": "code",
      "source": [
        "from catboost import CatBoostRegressor"
      ],
      "metadata": {
        "id": "pykWwf3ey3bt"
      },
      "execution_count": null,
      "outputs": []
    },
    {
      "cell_type": "code",
      "source": [
        "parametrs = {'cat_features' : cat_features, \n",
        "             'eval_metric':'MAPE',\n",
        "             'learning_rate':0.07,\n",
        "             'random_seed':42,\n",
        "             'verbose':100}"
      ],
      "metadata": {
        "id": "L1qMj-3Z5Jc9"
      },
      "execution_count": null,
      "outputs": []
    },
    {
      "cell_type": "code",
      "source": [
        "model = CatBoostRegressor(**parametrs)"
      ],
      "metadata": {
        "id": "Dbo21YC05Jc_"
      },
      "execution_count": null,
      "outputs": []
    },
    {
      "cell_type": "code",
      "source": [
        "x = ['model', 'year', 'transmission', 'mileage', 'fuelType', 'tax',\n",
        "       'mpg', 'engineSize']\n",
        "cat_features=['model', 'transmission', 'fuelType']\n",
        "y = ['price']"
      ],
      "metadata": {
        "id": "308OppALw--m"
      },
      "execution_count": null,
      "outputs": []
    },
    {
      "cell_type": "code",
      "source": [
        "model.fit(train[x],train[y], eval_set=(val[x],val[y]))"
      ],
      "metadata": {
        "colab": {
          "base_uri": "https://localhost:8080/"
        },
        "id": "D8SDDqdn0Dy-",
        "outputId": "65c76570-f28b-424c-92d0-622878641096"
      },
      "execution_count": null,
      "outputs": [
        {
          "output_type": "stream",
          "name": "stdout",
          "text": [
            "0:\tlearn: 0.4398163\ttest: 0.4530682\tbest: 0.4530682 (0)\ttotal: 15.7ms\tremaining: 15.7s\n",
            "100:\tlearn: 0.0858960\ttest: 0.0837013\tbest: 0.0837013 (100)\ttotal: 2.23s\tremaining: 19.9s\n",
            "200:\tlearn: 0.0732223\ttest: 0.0735174\tbest: 0.0735174 (200)\ttotal: 5.88s\tremaining: 23.4s\n",
            "300:\tlearn: 0.0689227\ttest: 0.0704869\tbest: 0.0704869 (300)\ttotal: 8.13s\tremaining: 18.9s\n",
            "400:\tlearn: 0.0656434\ttest: 0.0681846\tbest: 0.0681846 (400)\ttotal: 10.3s\tremaining: 15.4s\n",
            "500:\tlearn: 0.0634830\ttest: 0.0665699\tbest: 0.0665563 (499)\ttotal: 12.1s\tremaining: 12s\n",
            "600:\tlearn: 0.0618691\ttest: 0.0656793\tbest: 0.0656739 (599)\ttotal: 14s\tremaining: 9.26s\n",
            "700:\tlearn: 0.0605200\ttest: 0.0651357\tbest: 0.0651357 (700)\ttotal: 14.8s\tremaining: 6.32s\n",
            "800:\tlearn: 0.0593709\ttest: 0.0645797\tbest: 0.0645758 (799)\ttotal: 15.7s\tremaining: 3.89s\n",
            "900:\tlearn: 0.0583189\ttest: 0.0641009\tbest: 0.0641009 (900)\ttotal: 17.6s\tremaining: 1.94s\n",
            "999:\tlearn: 0.0574822\ttest: 0.0638441\tbest: 0.0638441 (999)\ttotal: 18.9s\tremaining: 0us\n",
            "\n",
            "bestTest = 0.06384407056\n",
            "bestIteration = 999\n",
            "\n"
          ]
        },
        {
          "output_type": "execute_result",
          "data": {
            "text/plain": [
              "<catboost.core.CatBoostRegressor at 0x7faf9f7b7280>"
            ]
          },
          "metadata": {},
          "execution_count": 116
        }
      ]
    },
    {
      "cell_type": "code",
      "source": [
        "test['price_pred'] = model.predict(test[x])"
      ],
      "metadata": {
        "id": "Hp1SHL760TMM"
      },
      "execution_count": null,
      "outputs": []
    },
    {
      "cell_type": "code",
      "source": [
        "def error(y_true, y_pred):\n",
        "  print(mean_absolute_error(y_true, y_pred))\n",
        "  print(mean_absolute_percentage_error(y_true, y_pred))"
      ],
      "metadata": {
        "id": "ZUNOLzuM2Wlf"
      },
      "execution_count": null,
      "outputs": []
    },
    {
      "cell_type": "code",
      "source": [
        "error(test['price'], test['price_pred'])"
      ],
      "metadata": {
        "colab": {
          "base_uri": "https://localhost:8080/"
        },
        "id": "cTNXscfq2p3L",
        "outputId": "b8fbb176-71cd-4fbb-d0c5-98edf32ade23"
      },
      "execution_count": null,
      "outputs": [
        {
          "output_type": "stream",
          "name": "stdout",
          "text": [
            "1078.3499184774594\n",
            "0.06675768808024096\n"
          ]
        }
      ]
    },
    {
      "cell_type": "code",
      "source": [
        "parametrs = {'cat_features' : cat_features, \n",
        "             'eval_metric':'MAPE',\n",
        "             'learning_rate':0.03,\n",
        "             'random_seed':42,\n",
        "             'verbose':100}"
      ],
      "metadata": {
        "id": "GtLNzoFi3EZ9"
      },
      "execution_count": null,
      "outputs": []
    },
    {
      "cell_type": "code",
      "source": [
        "model = CatBoostRegressor(**parametrs)"
      ],
      "metadata": {
        "id": "o8D6mR8R2ycz"
      },
      "execution_count": null,
      "outputs": []
    },
    {
      "cell_type": "code",
      "source": [
        "x = ['year', 'transmission', 'engineSize']\n",
        "cat_features=['transmission']\n",
        "y = ['price']"
      ],
      "metadata": {
        "id": "D4Jgjvpx4toX"
      },
      "execution_count": null,
      "outputs": []
    },
    {
      "cell_type": "code",
      "source": [
        "model.fit(train[x],train[y], eval_set=(val[x],val[y]))"
      ],
      "metadata": {
        "colab": {
          "base_uri": "https://localhost:8080/"
        },
        "id": "asNpDar53cQD",
        "outputId": "93ad2222-0f8a-44de-ca12-30c8b86ff13a"
      },
      "execution_count": null,
      "outputs": [
        {
          "output_type": "stream",
          "name": "stdout",
          "text": [
            "0:\tlearn: 0.4535842\ttest: 0.4673418\tbest: 0.4673418 (0)\ttotal: 9.05ms\tremaining: 9.04s\n",
            "100:\tlearn: 0.1576106\ttest: 0.1549454\tbest: 0.1549454 (100)\ttotal: 471ms\tremaining: 4.2s\n",
            "200:\tlearn: 0.1443588\ttest: 0.1424672\tbest: 0.1424672 (200)\ttotal: 860ms\tremaining: 3.42s\n",
            "300:\tlearn: 0.1421263\ttest: 0.1409478\tbest: 0.1409478 (300)\ttotal: 1.22s\tremaining: 2.84s\n",
            "400:\tlearn: 0.1410607\ttest: 0.1405352\tbest: 0.1405205 (393)\ttotal: 1.57s\tremaining: 2.35s\n",
            "500:\tlearn: 0.1404363\ttest: 0.1402313\tbest: 0.1402313 (500)\ttotal: 1.91s\tremaining: 1.9s\n",
            "600:\tlearn: 0.1399078\ttest: 0.1400254\tbest: 0.1400190 (595)\ttotal: 2.28s\tremaining: 1.51s\n",
            "700:\tlearn: 0.1394701\ttest: 0.1399160\tbest: 0.1399088 (697)\ttotal: 2.92s\tremaining: 1.25s\n",
            "800:\tlearn: 0.1391234\ttest: 0.1398323\tbest: 0.1398238 (794)\ttotal: 3.84s\tremaining: 953ms\n",
            "900:\tlearn: 0.1388132\ttest: 0.1398218\tbest: 0.1398022 (875)\ttotal: 4.55s\tremaining: 500ms\n",
            "999:\tlearn: 0.1385303\ttest: 0.1397753\tbest: 0.1397753 (999)\ttotal: 5.29s\tremaining: 0us\n",
            "\n",
            "bestTest = 0.1397753344\n",
            "bestIteration = 999\n",
            "\n"
          ]
        },
        {
          "output_type": "execute_result",
          "data": {
            "text/plain": [
              "<catboost.core.CatBoostRegressor at 0x7faf8e5e6770>"
            ]
          },
          "metadata": {},
          "execution_count": 127
        }
      ]
    },
    {
      "cell_type": "code",
      "source": [
        "len(train)"
      ],
      "metadata": {
        "colab": {
          "base_uri": "https://localhost:8080/"
        },
        "id": "dkPSCext4Zqy",
        "outputId": "8c78d62f-cae4-4446-a247-cd9d8524f61c"
      },
      "execution_count": null,
      "outputs": [
        {
          "output_type": "execute_result",
          "data": {
            "text/plain": [
              "9094"
            ]
          },
          "metadata": {},
          "execution_count": 128
        }
      ]
    },
    {
      "cell_type": "code",
      "source": [
        "len(val)"
      ],
      "metadata": {
        "colab": {
          "base_uri": "https://localhost:8080/"
        },
        "id": "j8NXHhs-5qZ6",
        "outputId": "3b8d1abd-e4f0-4355-b3a8-634091997d67"
      },
      "execution_count": null,
      "outputs": [
        {
          "output_type": "execute_result",
          "data": {
            "text/plain": [
              "3031"
            ]
          },
          "metadata": {},
          "execution_count": 129
        }
      ]
    },
    {
      "cell_type": "code",
      "source": [
        "train_full = pd.concat([train,val])"
      ],
      "metadata": {
        "id": "QFdqSHsc5rtx"
      },
      "execution_count": null,
      "outputs": []
    },
    {
      "cell_type": "code",
      "source": [],
      "metadata": {
        "id": "AwSB-OIZ5wqI"
      },
      "execution_count": null,
      "outputs": []
    }
  ]
}